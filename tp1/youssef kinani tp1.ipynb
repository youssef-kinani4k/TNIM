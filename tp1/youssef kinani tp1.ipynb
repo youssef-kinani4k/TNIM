{
 "cells": [
  {
   "cell_type": "markdown",
   "id": "c07bfee8",
   "metadata": {},
   "source": [
    "# exercice 1"
   ]
  },
  {
   "cell_type": "markdown",
   "id": "06801b11",
   "metadata": {},
   "source": [
    "## 1"
   ]
  },
  {
   "cell_type": "code",
   "execution_count": 4,
   "id": "50c151db",
   "metadata": {},
   "outputs": [],
   "source": [
    "import math"
   ]
  },
  {
   "cell_type": "code",
   "execution_count": 16,
   "id": "b65219eb",
   "metadata": {},
   "outputs": [
    {
     "name": "stdout",
     "output_type": "stream",
     "text": [
      "entre une valeur45\n",
      "45  n'est pas  carre parfait\n",
      "6.708203932499369 6\n"
     ]
    }
   ],
   "source": [
    "x=int(input(\"entre une valeur\"))\n",
    "y=math.sqrt(x)\n",
    "if( y == int(y)  ) :\n",
    "    print(x , \" est un carre parfait\")\n",
    "else : \n",
    "    print(x , \" n'est pas  carre parfait\")\n",
    "print(y,int(y))"
   ]
  },
  {
   "cell_type": "markdown",
   "id": "25813bd4",
   "metadata": {},
   "source": [
    "## 2"
   ]
  },
  {
   "cell_type": "code",
   "execution_count": 20,
   "id": "dc4a3aef",
   "metadata": {},
   "outputs": [
    {
     "name": "stdout",
     "output_type": "stream",
     "text": [
      "2\n",
      "-0.4161468365471424\n",
      "cos(2)=-0.4161552028218696 avec error de :8.366274727167333e-06 \n"
     ]
    }
   ],
   "source": [
    "y=int(input())\n",
    "x=0\n",
    "i=0\n",
    "while(abs(math.cos(y)-x)>0.0001):\n",
    "    x=x+(((-1)**i)*(y**(2*i)))/math.factorial(2*i)\n",
    "    i=i+1\n",
    "print(math.cos(y))\n",
    "print(\"cos({})={} avec error de :{} \".format(y,x,abs(math.cos(y)-x)))"
   ]
  },
  {
   "cell_type": "markdown",
   "id": "5c77e59a",
   "metadata": {},
   "source": [
    "## 3"
   ]
  },
  {
   "cell_type": "code",
   "execution_count": 21,
   "id": "68fc3964",
   "metadata": {},
   "outputs": [
    {
     "name": "stdout",
     "output_type": "stream",
     "text": [
      "18\n",
      "[1, 2, 3, 6, 9]\n"
     ]
    }
   ],
   "source": [
    "y=int(input())\n",
    "l=[]\n",
    "for i in range(1,y//2+1):\n",
    "    if(y%i==0):l.append(i)\n",
    "print(l)"
   ]
  },
  {
   "cell_type": "markdown",
   "id": "d36dc6ef",
   "metadata": {},
   "source": [
    "## 4"
   ]
  },
  {
   "cell_type": "code",
   "execution_count": 6,
   "id": "47b3c060",
   "metadata": {},
   "outputs": [
    {
     "name": "stdout",
     "output_type": "stream",
     "text": [
      "entrer une valeur m entre 1 et 65\n",
      "entrer une valeur n entre 1 et 65\n",
      "['X', ' ', 'X', '|', 'X', ' ', 'X']\n",
      "[' ', 'X', ' ', '|', ' ', 'X', ' ']\n",
      "['X', ' ', 'X', '||', 'X', ' ', 'X']\n"
     ]
    }
   ],
   "source": [
    "m=int(input(\"entrer une valeur m entre 1 et 6\"))\n",
    "n=int(input(\"entrer une valeur n entre 1 et 6\"))\n",
    "l=[\n",
    "    [\" \",\" \",\" \",\"|\",\" \",\" \",\" \"],\n",
    "    [\" \",\" \",\" \",\"|\",\" \",\" \",\" \"],\n",
    "    [\" \",\" \",\" \",\"|\",\" \",\" \",\" \"]\n",
    "  ]\n",
    "if(m==1):l[1][1]=\"x\"\n",
    "elif(m==2): l[1][0]=l[1][2]=\"X\"\n",
    "elif(m==3): l[0][2]=l[2][0]=l[1][1]=\"X\"\n",
    "elif(m==4): l[0][0]=l[2][2]=l[0][2]=l[2][0]=\"X\"\n",
    "elif(m==5): l[0][0]=l[2][2]=l[0][2]=l[2][0]=l[1][1]=\"X\"\n",
    "elif(m==6): l[2][2]=l[2][0]=l[1][0]=l[0][0]=l[1][2]=l[0][2]=\"X\"\n",
    "else : m=int(input(\"entrer une valeur m entre 1 et 6\"))\n",
    "if(n==1):l[1][5]=\"x\"\n",
    "elif(n==2): l[1][4]=l[1][6]=\"X\"\n",
    "elif(n==3): l[0][6]=l[2][4]=l[1][5]=\"X\"\n",
    "elif(n==4): l[0][4]=l[2][6]=l[0][6]=l[2][4]=\"X\"\n",
    "elif(n==5): l[0][4]=l[2][6]=l[0][6]=l[2][4]=l[1][5]=\"X\"\n",
    "elif(n==6): l[2][6]=l[2][4]=l[1][4]=l[0][4]=l[1][6]=l[0][6]=\"X\"\n",
    "else : n=int(input(\"entrer une valeur n entre 1 et 6\"))\n",
    "for i in l:\n",
    " print(i)\n"
   ]
  },
  {
   "cell_type": "markdown",
   "id": "b7b705de",
   "metadata": {},
   "source": [
    "## 5"
   ]
  },
  {
   "cell_type": "code",
   "execution_count": 7,
   "id": "a2dc2d0e",
   "metadata": {},
   "outputs": [
    {
     "name": "stdout",
     "output_type": "stream",
     "text": [
      "100\n",
      "101\n",
      "102\n",
      "103\n",
      "104\n",
      "105\n",
      "106\n",
      "107\n",
      "108\n",
      "109\n",
      "110\n",
      "120\n",
      "123\n",
      "130\n",
      "132\n",
      "138\n",
      "140\n",
      "145\n",
      "150\n",
      "154\n",
      "159\n",
      "160\n",
      "167\n",
      "170\n",
      "176\n",
      "180\n",
      "183\n",
      "189\n",
      "190\n",
      "195\n",
      "198\n",
      "200\n",
      "201\n",
      "202\n",
      "203\n",
      "204\n",
      "205\n",
      "206\n",
      "207\n",
      "208\n",
      "209\n",
      "210\n",
      "213\n",
      "220\n",
      "224\n",
      "230\n",
      "231\n",
      "235\n",
      "240\n",
      "242\n",
      "246\n",
      "250\n",
      "253\n",
      "257\n",
      "260\n",
      "264\n",
      "268\n",
      "270\n",
      "275\n",
      "279\n",
      "280\n",
      "286\n",
      "290\n",
      "297\n",
      "300\n",
      "301\n",
      "302\n",
      "303\n",
      "304\n",
      "305\n",
      "306\n",
      "307\n",
      "308\n",
      "309\n",
      "310\n",
      "312\n",
      "318\n",
      "320\n",
      "321\n",
      "325\n",
      "330\n",
      "333\n",
      "340\n",
      "345\n",
      "347\n",
      "350\n",
      "352\n",
      "354\n",
      "357\n",
      "360\n",
      "369\n",
      "370\n",
      "374\n",
      "375\n",
      "380\n",
      "381\n",
      "390\n",
      "396\n",
      "400\n",
      "401\n",
      "402\n",
      "403\n",
      "404\n",
      "405\n",
      "406\n",
      "407\n",
      "408\n",
      "409\n",
      "410\n",
      "415\n",
      "420\n",
      "422\n",
      "426\n",
      "430\n",
      "435\n",
      "437\n",
      "440\n",
      "448\n",
      "450\n",
      "451\n",
      "453\n",
      "456\n",
      "459\n",
      "460\n",
      "462\n",
      "465\n",
      "466\n",
      "470\n",
      "473\n",
      "480\n",
      "484\n",
      "490\n",
      "495\n",
      "500\n",
      "501\n",
      "502\n",
      "503\n",
      "504\n",
      "505\n",
      "506\n",
      "507\n",
      "508\n",
      "509\n",
      "510\n",
      "514\n",
      "519\n",
      "520\n",
      "523\n",
      "527\n",
      "530\n",
      "532\n",
      "534\n",
      "537\n",
      "540\n",
      "541\n",
      "543\n",
      "546\n",
      "549\n",
      "550\n",
      "560\n",
      "564\n",
      "570\n",
      "572\n",
      "573\n",
      "578\n",
      "579\n",
      "580\n",
      "587\n",
      "590\n",
      "591\n",
      "594\n",
      "597\n",
      "600\n",
      "601\n",
      "602\n",
      "603\n",
      "604\n",
      "605\n",
      "606\n",
      "607\n",
      "608\n",
      "609\n",
      "610\n",
      "617\n",
      "620\n",
      "624\n",
      "628\n",
      "630\n",
      "639\n",
      "640\n",
      "642\n",
      "645\n",
      "646\n",
      "650\n",
      "654\n",
      "660\n",
      "664\n",
      "666\n",
      "670\n",
      "671\n",
      "678\n",
      "680\n",
      "682\n",
      "687\n",
      "690\n",
      "693\n",
      "700\n",
      "701\n",
      "702\n",
      "703\n",
      "704\n",
      "705\n",
      "706\n",
      "707\n",
      "708\n",
      "709\n",
      "710\n",
      "716\n",
      "720\n",
      "725\n",
      "729\n",
      "730\n",
      "734\n",
      "735\n",
      "740\n",
      "743\n",
      "750\n",
      "752\n",
      "753\n",
      "758\n",
      "759\n",
      "760\n",
      "761\n",
      "768\n",
      "770\n",
      "780\n",
      "785\n",
      "786\n",
      "789\n",
      "790\n",
      "792\n",
      "795\n",
      "798\n",
      "800\n",
      "801\n",
      "802\n",
      "803\n",
      "804\n",
      "805\n",
      "806\n",
      "807\n",
      "808\n",
      "809\n",
      "810\n",
      "813\n",
      "819\n",
      "820\n",
      "826\n",
      "830\n",
      "831\n",
      "840\n",
      "844\n",
      "850\n",
      "857\n",
      "860\n",
      "862\n",
      "867\n",
      "870\n",
      "875\n",
      "876\n",
      "879\n",
      "880\n",
      "890\n",
      "891\n",
      "897\n",
      "900\n",
      "901\n",
      "902\n",
      "903\n",
      "904\n",
      "905\n",
      "906\n",
      "907\n",
      "908\n",
      "909\n",
      "910\n",
      "915\n",
      "918\n",
      "920\n",
      "927\n",
      "930\n",
      "936\n",
      "940\n",
      "945\n",
      "950\n",
      "951\n",
      "954\n",
      "957\n",
      "960\n",
      "963\n",
      "970\n",
      "972\n",
      "975\n",
      "978\n",
      "980\n",
      "981\n",
      "987\n",
      "990\n",
      "999\n"
     ]
    }
   ],
   "source": [
    "for i in range(100,1000):\n",
    "    z=str(i)\n",
    "    s=0\n",
    "    p=1\n",
    "    for n in z :\n",
    "        s=s+int(n)\n",
    "        p=p*int(n)\n",
    "    if(p%s==0) : print(z)"
   ]
  },
  {
   "cell_type": "markdown",
   "id": "51a47063",
   "metadata": {},
   "source": [
    "## 6"
   ]
  },
  {
   "cell_type": "code",
   "execution_count": 9,
   "id": "88e79c65",
   "metadata": {},
   "outputs": [
    {
     "name": "stdout",
     "output_type": "stream",
     "text": [
      "entrer un nombre entre 100 et 999888\n",
      "pas premier\n",
      "888 n'est pas un nombre circulaire \n"
     ]
    }
   ],
   "source": [
    "z=input(\"entrer un nombre entre 100 et 999\")\n",
    "q=1 #variable de verification\n",
    "l=[z,z[2]+z[0]+z[1],z[1]+z[2]+z[0]]\n",
    "\n",
    "\n",
    "for i in l :\n",
    "    i=int(i)\n",
    "    for j in range(2,(i//2)+1) :\n",
    "        if(i%j==0): \n",
    "            q=0 #changer q s'il exicte un diviseur\n",
    "            print(\"pas premier\")\n",
    "            break #arreter la boucle  s'il exicte un diviseur\n",
    "    if(q==0):\n",
    "        print(z+\" n'est pas un nombre circulaire \")\n",
    "        break\n",
    "if(q):print(z+\" est un circulair\")"
   ]
  },
  {
   "cell_type": "markdown",
   "id": "f8d5e3ac",
   "metadata": {},
   "source": [
    "# exercice 2"
   ]
  },
  {
   "cell_type": "markdown",
   "id": "e3227c9b",
   "metadata": {},
   "source": [
    "## 1"
   ]
  },
  {
   "cell_type": "code",
   "execution_count": 10,
   "id": "c3d39f16",
   "metadata": {},
   "outputs": [
    {
     "name": "stdout",
     "output_type": "stream",
     "text": [
      "[1, 2, 3, 4, 4, 9]\n"
     ]
    }
   ],
   "source": [
    "l=[10,19,17,1,2,3,4,4,12,9]\n",
    "moin=[]\n",
    "for i in l :\n",
    "    if(i<10) : moin.append(i)\n",
    "print(moin)"
   ]
  },
  {
   "cell_type": "markdown",
   "id": "0d9bed21",
   "metadata": {},
   "source": [
    "## 2"
   ]
  },
  {
   "cell_type": "code",
   "execution_count": 11,
   "id": "0f7a5c25",
   "metadata": {},
   "outputs": [
    {
     "name": "stdout",
     "output_type": "stream",
     "text": [
      "['ceci', 'est', 'un', 'exemple']\n",
      "['exem', 'est', 'tres', 'simple']\n",
      "['est']\n"
     ]
    }
   ],
   "source": [
    "from posixpath import join\n",
    "ch1=\"ceci est un exemple simple\"\n",
    "ch2=\"exem est tres simple\"\n",
    "mots=[]\n",
    "mots2=[]\n",
    "l1=[]#séparer les mots  de ch1\n",
    "l2=[]#séparer les mots  de ch1\n",
    "commun=[]\n",
    "for c in ch1 :\n",
    "    if(c != \" \" ):\n",
    "        mots.append(c)#regrouper les caracter de meme mots\n",
    "    else :\n",
    "        mots=\"\".join(mots)\n",
    "        l1.append(mots)#ajouter le mots en l1\n",
    "        mots=[]\n",
    "mots=\"\".join(mots)\n",
    "l.append(mots)#pour le dernier mots\n",
    "for c in ch2 :\n",
    "    if(c != \" \" ):\n",
    "        mots2.append(c)#regrouper les caracter de meme mots\n",
    "    else :\n",
    "        mots2=\"\".join(mots2)\n",
    "        l2.append(mots2)#ajouter le mots en l1\n",
    "        mots2=[]\n",
    "mots2=\"\".join(mots2)\n",
    "l2.append(mots2)#pour le dernier mots\n",
    "print(l1)#cha1 separe\n",
    "print(l2)#cha2 separe\n",
    "for i in l1 :\n",
    "      if(i in l2) : commun.append(i)\n",
    "print(commun)"
   ]
  },
  {
   "cell_type": "markdown",
   "id": "0014d963",
   "metadata": {},
   "source": [
    "## 3"
   ]
  },
  {
   "cell_type": "code",
   "execution_count": 24,
   "id": "7115a4e9",
   "metadata": {},
   "outputs": [],
   "source": [
    "dic ={\"appareil\":\"laptop\",\"marque\":\"ibm\",\"carate mere\":\"msi z490\"\n",
    "     ,\"carte grafique\":\"geforce rtx 3070\",\"ram\":\"24g\",\"processeur\"\n",
    "     :\"intel core i7-g12\",\"ssd\":\"1to\"}"
   ]
  },
  {
   "cell_type": "markdown",
   "id": "8bb449b7",
   "metadata": {},
   "source": [
    "### 3-1"
   ]
  },
  {
   "cell_type": "code",
   "execution_count": 25,
   "id": "a015123f",
   "metadata": {},
   "outputs": [],
   "source": [
    "dic['ram']=\"32G\""
   ]
  },
  {
   "cell_type": "markdown",
   "id": "735657eb",
   "metadata": {},
   "source": [
    "### 3-2"
   ]
  },
  {
   "cell_type": "code",
   "execution_count": 26,
   "id": "9af50e19",
   "metadata": {},
   "outputs": [
    {
     "name": "stdout",
     "output_type": "stream",
     "text": [
      "dict_keys(['appareil', 'marque', 'carate mere', 'carte grafique', 'ram', 'processeur', 'ssd'])\n",
      "dict_values(['laptop', 'ibm', 'msi z490', 'geforce rtx 3070', '32G', 'intel core i7-g12', '1to'])\n",
      "dict_items([('appareil', 'laptop'), ('marque', 'ibm'), ('carate mere', 'msi z490'), ('carte grafique', 'geforce rtx 3070'), ('ram', '32G'), ('processeur', 'intel core i7-g12'), ('ssd', '1to')])\n"
     ]
    }
   ],
   "source": [
    "x=dic.keys()\n",
    "y=dic.values()\n",
    "xy=dic.items()\n",
    "print(x)\n",
    "print(y)\n",
    "print(xy)"
   ]
  },
  {
   "cell_type": "markdown",
   "id": "1b83748a",
   "metadata": {},
   "source": [
    "### 3-3 "
   ]
  },
  {
   "cell_type": "code",
   "execution_count": 28,
   "id": "5fafef21",
   "metadata": {},
   "outputs": [
    {
     "name": "stdout",
     "output_type": "stream",
     "text": [
      "{'appareil': 'laptop', 'marque': 'ibm', 'carate mere': 'msi z490', 'processeur': 'intel core i7-g12', 'ram': '32G', 'carte grafique': 'geforce rtx 3070', 'ssd': '1to'}\n",
      "{'appareil': 'laptop', 'marque': 'ibm', 'carate mere': 'msi z490', 'carte grafique': 'geforce rtx 3070', 'ram': '32G', 'processeur': 'intel core i7-g12', 'ssd': '1to'}\n"
     ]
    }
   ],
   "source": [
    "dic1={}\n",
    "for i in dic :\n",
    "    if(i=='carte grafique') :dic1['processeur']=\"intel core i7-g12\"\n",
    "    elif(i=='processeur'):dic1['carte grafique']=\"geforce rtx 3070\"\n",
    "    else : dic1[i]=dic[i]\n",
    "print(dic1)\n",
    "print(dic)"
   ]
  },
  {
   "cell_type": "markdown",
   "id": "e80534ab",
   "metadata": {},
   "source": [
    "### 3-4"
   ]
  },
  {
   "cell_type": "code",
   "execution_count": 32,
   "id": "888aa65a",
   "metadata": {},
   "outputs": [
    {
     "name": "stdout",
     "output_type": "stream",
     "text": [
      "[['appareil', 'laptop'], ['marque', 'ibm'], ['carate mere', 'msi z490'], ['carte grafique', 'geforce rtx 3070'], ['ram', '32G'], ['processeur', 'intel core i7-g12'], ['ssd', '1to']]\n"
     ]
    }
   ],
   "source": [
    "l=[]\n",
    "j=0\n",
    "for i in dic :\n",
    "    l.append([i,dic[i]])\n",
    "print(l)\n"
   ]
  },
  {
   "cell_type": "markdown",
   "id": "f2c7ce69",
   "metadata": {},
   "source": [
    "# exercic 3"
   ]
  },
  {
   "cell_type": "markdown",
   "id": "7783cb8f",
   "metadata": {},
   "source": [
    "## 1"
   ]
  },
  {
   "cell_type": "code",
   "execution_count": 41,
   "id": "3922fd4d",
   "metadata": {},
   "outputs": [],
   "source": [
    "def grand_colone(l): \n",
    " m=0\n",
    " c=[]\n",
    " for i in range(len(l[0])):\n",
    "     s=0\n",
    "     for j in range(len(l)):\n",
    "         s=s+l[j][i]\n",
    "     if(s>=m) : \n",
    "         m=s\n",
    "         im=i\n",
    " for i in range(len(l)):\n",
    "     c.append(l[i][im])\n",
    " return c"
   ]
  },
  {
   "cell_type": "code",
   "execution_count": 42,
   "id": "a797b1a9",
   "metadata": {},
   "outputs": [
    {
     "name": "stdout",
     "output_type": "stream",
     "text": [
      "[4, 7, 10]\n"
     ]
    }
   ],
   "source": [
    "l=[[1,2,3,4],\n",
    "  [4,4,6,7],\n",
    "  [5,7,9,10]]\n",
    "print(grand_colone(l))"
   ]
  },
  {
   "cell_type": "markdown",
   "id": "0757094d",
   "metadata": {},
   "source": [
    "## 2"
   ]
  },
  {
   "cell_type": "code",
   "execution_count": 43,
   "id": "6c1d1a66",
   "metadata": {},
   "outputs": [],
   "source": [
    "def list_f(l,nom):\n",
    " fil=open(nom,\"w\",encoding = \"utf-8\")\n",
    " for i in l :\n",
    "  fil.write(str(i)+\"\\n\")\n",
    " fil.close()\n",
    "l=[1,2,3,4,5,6,7]"
   ]
  },
  {
   "cell_type": "code",
   "execution_count": 44,
   "id": "fdd33557",
   "metadata": {},
   "outputs": [],
   "source": [
    "list_f(l,\"hassan.txt\")"
   ]
  },
  {
   "cell_type": "markdown",
   "id": "2be4de34",
   "metadata": {},
   "source": [
    "## 3"
   ]
  },
  {
   "cell_type": "code",
   "execution_count": 73,
   "id": "20af426d",
   "metadata": {},
   "outputs": [],
   "source": [
    "def repeter(t):\n",
    "     l={'les caracter qui ne se trouve pas donne s2:'}\n",
    "     for i in t[0]:\n",
    "         if(i not in t[1] ) : \n",
    "                l.add(i)\n",
    "     x=tuple(l)\n",
    "     return x"
   ]
  },
  {
   "cell_type": "code",
   "execution_count": 74,
   "id": "18ba3c78",
   "metadata": {},
   "outputs": [
    {
     "name": "stdout",
     "output_type": "stream",
     "text": [
      "('les caracter qui ne se trouve pas donne s2:', 'f')\n"
     ]
    }
   ],
   "source": [
    "t=(\"ffffff azer\",\"azer tyuio pqwxc vb\")\n",
    "print(repeter(t))"
   ]
  },
  {
   "cell_type": "markdown",
   "id": "4d0a2eaf",
   "metadata": {},
   "source": [
    "## 4"
   ]
  },
  {
   "cell_type": "markdown",
   "id": "f092af8f",
   "metadata": {},
   "source": [
    "### a"
   ]
  },
  {
   "cell_type": "code",
   "execution_count": 75,
   "id": "1af4e6b1",
   "metadata": {},
   "outputs": [],
   "source": [
    "def check(n):\n",
    "    l=[]\n",
    "    for i in range(1,n//2+1):\n",
    "        if(n%i==0)  : l.append(i)\n",
    "    return sum(l)==n"
   ]
  },
  {
   "cell_type": "markdown",
   "id": "78e40f17",
   "metadata": {},
   "source": [
    "### b"
   ]
  },
  {
   "cell_type": "code",
   "execution_count": 76,
   "id": "3e843f11",
   "metadata": {},
   "outputs": [],
   "source": [
    "def listPerfect(m):\n",
    "    l=[]\n",
    "    for i in range(1,m) :\n",
    "        if(check(i)) : l.append(i)\n",
    "    return l"
   ]
  },
  {
   "cell_type": "code",
   "execution_count": 77,
   "id": "ae044ab3",
   "metadata": {},
   "outputs": [
    {
     "name": "stdout",
     "output_type": "stream",
     "text": [
      "[6, 28]\n"
     ]
    }
   ],
   "source": [
    "print(listPerfect(30))"
   ]
  },
  {
   "cell_type": "markdown",
   "id": "4b713d5c",
   "metadata": {},
   "source": [
    "### c"
   ]
  },
  {
   "cell_type": "code",
   "execution_count": 78,
   "id": "c652663b",
   "metadata": {},
   "outputs": [],
   "source": [
    "def verify(n):\n",
    "    l=[]\n",
    "    for i in range(1,n//2+1):\n",
    "        if(n%i==0)  : l.append(i)\n",
    "    if(sum(l)==n) : return l\n",
    "    else : return"
   ]
  },
  {
   "cell_type": "markdown",
   "id": "945a581f",
   "metadata": {},
   "source": [
    "### d"
   ]
  },
  {
   "cell_type": "code",
   "execution_count": 79,
   "id": "1b2a1ed7",
   "metadata": {},
   "outputs": [],
   "source": [
    "def listverify(n) :\n",
    "    l=verify(n)\n",
    "    d=[]\n",
    "    for i in l:\n",
    "        s=[]\n",
    "        for j in range(1,i//2+1):\n",
    "            if(i%j==0)  : s.append(j)\n",
    "        d.append(s)\n",
    "    return d"
   ]
  },
  {
   "cell_type": "code",
   "execution_count": 80,
   "id": "09e69f89",
   "metadata": {},
   "outputs": [
    {
     "name": "stdout",
     "output_type": "stream",
     "text": [
      "[1, 2, 4, 7, 14]\n",
      "[[], [1], [1, 2], [1], [1, 2, 7]]\n"
     ]
    }
   ],
   "source": [
    "print(verify(28))\n",
    "print(listverify(28))"
   ]
  },
  {
   "cell_type": "markdown",
   "id": "d3847440",
   "metadata": {},
   "source": [
    "## 5"
   ]
  },
  {
   "cell_type": "code",
   "execution_count": 81,
   "id": "b8deae6a",
   "metadata": {},
   "outputs": [],
   "source": [
    "l=  [[\"E\",\"D\",\"D\",\"A\",\"C\",\"B\",\"E\",\"E\",\"A\",\"D\"],\n",
    "       [\"A\",\"E\",\"C\",\"C\",\"E\",\"A\",\"B\",\"D\",\"D\",\"A\"],\n",
    "       [\"B\",\"C\",\"B\",\"B\",\"A\",\"E\",\"E\",\"D\",\"E\",\"D\"],\n",
    "       [\"C\",\"A\",\"E\",\"A\",\"A\",\"D\",\"B\",\"B\",\"E\",\"B\"],\n",
    "       [\"B\",\"C\",\"C\",\"A\",\"E\",\"B\",\"A\",\"B\",\"C\",\"E\"],\n",
    "       [\"D\",\"E\",\"C\",\"A\",\"E\",\"C\",\"C\",\"B\",\"A\",\"E\"],\n",
    "       [\"E\",\"A\",\"B\",\"B\",\"A\",\"C\",\"E\",\"A\",\"A\",\"B\"],\n",
    "       [\"E\",\"C\",\"C\",\"B\",\"B\",\"B\",\"D\",\"D\",\"A\",\"C\"],\n",
    "       [\"C\",\"E\",\"E\",\"A\",\"B\",\"C\",\"D\",\"D\",\"E\",\"A\"],\n",
    "       [\"D\",\"A\",\"C\",\"C\",\"B\",\"A\",\"B\",\"A\",\"E\",\"E\"],\n",
    "       [\"A\",\"C\",\"C\",\"B\",\"B\",\"E\",\"A\",\"E\",\"A\",\"B\"],\n",
    "       ]\n",
    "cle=[\"A\",\"D\",\"D\",\"C\",\"C\",\"A\",\"E\",\"B\",\"C\",\"E\"]"
   ]
  },
  {
   "cell_type": "markdown",
   "id": "f0e555bf",
   "metadata": {},
   "source": [
    "### A"
   ]
  },
  {
   "cell_type": "code",
   "execution_count": 82,
   "id": "0bf94caa",
   "metadata": {},
   "outputs": [],
   "source": [
    "def note_eleve(l,cle) :\n",
    "    N={}\n",
    "    k=0\n",
    "    for i in l :\n",
    "        note=0\n",
    "        for j in range(len(i)):\n",
    "             if(i[j]==cle[j]) : note=note+1\n",
    "        N[\"eleve\"+str(k)]=note\n",
    "        k=k+1\n",
    "    return N"
   ]
  },
  {
   "cell_type": "markdown",
   "id": "75c99b29",
   "metadata": {},
   "source": [
    "### B"
   ]
  },
  {
   "cell_type": "code",
   "execution_count": 84,
   "id": "8c502434",
   "metadata": {},
   "outputs": [
    {
     "name": "stdout",
     "output_type": "stream",
     "text": [
      "{'eleve0': 4, 'eleve1': 3, 'eleve2': 1, 'eleve3': 1, 'eleve4': 3, 'eleve5': 2, 'eleve6': 1, 'eleve7': 0, 'eleve8': 0, 'eleve9': 3, 'eleve10': 1}\n",
      "[4, 3, 1, 1, 3, 2, 1, 0, 0, 3, 1]\n",
      "['eleve0', 'eleve1', 'eleve2', 'eleve3', 'eleve4', 'eleve5', 'eleve6', 'eleve7', 'eleve8', 'eleve9', 'eleve10']\n"
     ]
    }
   ],
   "source": [
    "noteEtEleve=note_eleve(l,cle)\n",
    "note=[]\n",
    "eleve=[]\n",
    "for i in noteEtEleve :\n",
    "    eleve.append(i)\n",
    "    note.append(noteEtEleve[i])\n",
    "print(noteEtEleve)\n",
    "print(note)\n",
    "print(eleve)    "
   ]
  },
  {
   "cell_type": "code",
   "execution_count": 86,
   "id": "46bea266",
   "metadata": {},
   "outputs": [
    {
     "name": "stdout",
     "output_type": "stream",
     "text": [
      "{'eleve0': 4, 'eleve1': 3, 'eleve4': 3, 'eleve9': 3, 'eleve5': 2, 'eleve2': 1, 'eleve3': 1, 'eleve6': 1, 'eleve10': 1, 'eleve7': 0, 'eleve8': 0}\n"
     ]
    }
   ],
   "source": [
    "def order(note):\n",
    "    dicor={}\n",
    "    for i in range(len(note)) :\n",
    "        j=note.index(max(note))\n",
    "        dicor[eleve[j]]=note[j]\n",
    "        note.pop(j)\n",
    "        eleve.pop(j)\n",
    "    print(dicor)\n",
    "order(note)"
   ]
  },
  {
   "cell_type": "markdown",
   "id": "16b14cc4",
   "metadata": {},
   "source": [
    "## 6"
   ]
  },
  {
   "cell_type": "code",
   "execution_count": 87,
   "id": "70325c9c",
   "metadata": {},
   "outputs": [],
   "source": [
    "CouSal={2:13,8:4}#A\n",
    "CouPro={2:\"youssef\",8:\"adib\"}#b\n",
    "CouDat={2:\"7/28 a 17:30\",4:\"7/23 a 8:30\"}#c"
   ]
  },
  {
   "cell_type": "markdown",
   "id": "976e2eb5",
   "metadata": {},
   "source": [
    "### d"
   ]
  },
  {
   "cell_type": "code",
   "execution_count": 89,
   "id": "69a4005c",
   "metadata": {},
   "outputs": [
    {
     "name": "stdout",
     "output_type": "stream",
     "text": [
      "cours :  4  salle :  ------  instructeur:  ------  date:  7/23 a 8:30\n"
     ]
    }
   ],
   "source": [
    "CouSal={2:13,8:4}\n",
    "CouPro={2:\"youssef\",8:\"adib\"}\n",
    "CouDat={2:\"7/28 a 17:30\",4:\"7/23 a 8:30\"}\n",
    "def cour(m) :\n",
    "    salle=prof=date=\"------\"#c'est un n'existe pas\n",
    "    if(m in CouSal ) : salle=CouSal[m]\n",
    "    if(m in CouPro ) :prof=CouPro[m]\n",
    "    if(m in CouDat) : date=CouDat[m]\n",
    "    print(\"cours : \",m,\" salle : \",salle,\" instructeur: \",prof,\" date: \",date)\n",
    "cour(4)"
   ]
  },
  {
   "cell_type": "markdown",
   "id": "b1550ea6",
   "metadata": {},
   "source": [
    "# exercice 4"
   ]
  },
  {
   "cell_type": "code",
   "execution_count": 90,
   "id": "be82249a",
   "metadata": {},
   "outputs": [],
   "source": [
    "def carMaj(chaine):\n",
    "    j=0\n",
    "    for i in chaine :\n",
    "        if(i.isupper()) : j=j+1\n",
    "    return j"
   ]
  },
  {
   "cell_type": "code",
   "execution_count": 91,
   "id": "430eac48",
   "metadata": {},
   "outputs": [],
   "source": [
    "def noAlpha(chaine) :\n",
    "    j=0\n",
    "    for i in chaine :\n",
    "        if(i.isalpha()==0) :j=j+1\n",
    "    return j"
   ]
  },
  {
   "cell_type": "code",
   "execution_count": 92,
   "id": "45dd5017",
   "metadata": {},
   "outputs": [],
   "source": [
    "def seqMaj(chaine) :\n",
    "    j=0\n",
    "    m=0\n",
    "    for i in chaine :\n",
    "        if(i.isupper()) : j=j+1\n",
    "        else : \n",
    "            m=max(m,j)\n",
    "            j=0\n",
    "        m=max(m,j)\n",
    "    return m"
   ]
  },
  {
   "cell_type": "code",
   "execution_count": 93,
   "id": "d2ee2e3a",
   "metadata": {},
   "outputs": [],
   "source": [
    "def seqMin(chaine) :\n",
    "    j=0\n",
    "    m=0\n",
    "    for i in chaine :\n",
    "        if(i.islower()) : j=j+1\n",
    "        else : \n",
    "            m=max(m,j)\n",
    "            j=0\n",
    "        m=max(m,j)\n",
    "    return m"
   ]
  },
  {
   "cell_type": "code",
   "execution_count": 94,
   "id": "5a7cda23",
   "metadata": {},
   "outputs": [],
   "source": [
    "def score(chaine) :\n",
    "    nt=len(chaine)\n",
    "    nm=carMaj(chaine)\n",
    "    nonalpha=noAlpha(chaine)\n",
    "    nn=nt-nm-nonalpha\n",
    "    lm=seqMaj(chaine)\n",
    "    ln=seqMin(chaine)\n",
    "    b=[nt*4,(nt-nm)*2,(nt-nn)*3,nonalpha*5]\n",
    "    p=[ln*2,lm*3]\n",
    "    s=sum(b)-sum(p)\n",
    "    return s"
   ]
  },
  {
   "cell_type": "code",
   "execution_count": 95,
   "id": "da6c05f2",
   "metadata": {},
   "outputs": [
    {
     "name": "stdout",
     "output_type": "stream",
     "text": [
      "144\n",
      "tres fort\n"
     ]
    }
   ],
   "source": [
    "y=\"papa gogo 1é2334\"\n",
    "s=score(y)\n",
    "print(s)\n",
    "if(s<20) :print(\"tres faible\")\n",
    "elif(20<=s<40) :print(\"tres faible\")\n",
    "elif(40<=s<80) :print(\"fort\")\n",
    "else :print(\"tres fort\")"
   ]
  }
 ],
 "metadata": {
  "kernelspec": {
   "display_name": "Python 3 (ipykernel)",
   "language": "python",
   "name": "python3"
  },
  "language_info": {
   "codemirror_mode": {
    "name": "ipython",
    "version": 3
   },
   "file_extension": ".py",
   "mimetype": "text/x-python",
   "name": "python",
   "nbconvert_exporter": "python",
   "pygments_lexer": "ipython3",
   "version": "3.11.4"
  }
 },
 "nbformat": 4,
 "nbformat_minor": 5
}
